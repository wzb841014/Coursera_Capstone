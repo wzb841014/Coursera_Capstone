{
 "cells": [
  {
   "cell_type": "code",
   "execution_count": 1,
   "metadata": {},
   "outputs": [
    {
     "name": "stdout",
     "output_type": "stream",
     "text": [
      "              Name Gender  Age MStat  PostCode  Population  NClaims  \\\n",
      "0         RYAN LAU      M   27     M      2145       71312        1   \n",
      "1   ADAN FAIRCHILD      M   33     S      3037       46879        0   \n",
      "2  MOHAMED FORREST      M   86     S      6280       23485        0   \n",
      "3     LING ALMEIDA      F   17     S      4216       33735        0   \n",
      "4     HECTOR REISS      M   55     S      2280       26595        2   \n",
      "\n",
      "   TotalClaims  \n",
      "0  1020.406479  \n",
      "1     0.000000  \n",
      "2     0.000000  \n",
      "3     0.000000  \n",
      "4  6865.770128  \n"
     ]
    }
   ],
   "source": [
    "import pandas as pd\n",
    "import numpy as np\n",
    "import statsmodels.api as sm\n",
    "from matplotlib import pyplot as plt\n",
    "\n",
    "Raw_Data = pd.read_csv(r'https://raw.githubusercontent.com/wzb841014/Coursera_Capstone/master/Raw_Data.csv')\n",
    "\n",
    "print(Raw_Data.head())"
   ]
  },
  {
   "cell_type": "code",
   "execution_count": 2,
   "metadata": {},
   "outputs": [
    {
     "name": "stdout",
     "output_type": "stream",
     "text": [
      "              Name  Gender  Age  MStat  PostCode  Population  NClaims  \\\n",
      "0         RYAN LAU       1   27      1      2145       71312        1   \n",
      "1   ADAN FAIRCHILD       1   33      0      3037       46879        0   \n",
      "2  MOHAMED FORREST       1   86      0      6280       23485        0   \n",
      "3     LING ALMEIDA       0   17      0      4216       33735        0   \n",
      "4     HECTOR REISS       1   55      0      2280       26595        2   \n",
      "\n",
      "   TotalClaims  \n",
      "0  1020.406479  \n",
      "1     0.000000  \n",
      "2     0.000000  \n",
      "3     0.000000  \n",
      "4  6865.770128  \n"
     ]
    }
   ],
   "source": [
    "Raw_Data['Gender'].replace('M', 1, inplace = True)\n",
    "Raw_Data['Gender'].replace('F', 0, inplace = True)\n",
    "Raw_Data['MStat'].replace('M', 1, inplace = True)\n",
    "Raw_Data['MStat'].replace('S', 0, inplace = True)\n",
    "Raw_Data.dropna(axis=0, how='any', inplace=True)\n",
    "\n",
    "print(Raw_Data.head())"
   ]
  },
  {
   "cell_type": "code",
   "execution_count": 3,
   "metadata": {},
   "outputs": [
    {
     "name": "stdout",
     "output_type": "stream",
     "text": [
      "0.6326311771426666\n"
     ]
    }
   ],
   "source": [
    "y = Raw_Data['NClaims']\n",
    "X = Raw_Data[['Gender', 'Age','MStat']]\n",
    "lOnes = np.ones(X.shape[0])\n",
    "X = np.hstack((lOnes.reshape(lOnes.shape[0],1), X))\n",
    "\n",
    "est_NClaims = sm.GLM(np.asarray(y), sm.add_constant(np.asarray(X)),family=sm.families.Poisson()).fit()\n",
    "est_NClaims.summary()\n",
    "\n",
    "print(np.std(est_NClaims.predict(X) - y))"
   ]
  },
  {
   "cell_type": "code",
   "execution_count": 22,
   "metadata": {},
   "outputs": [
    {
     "name": "stdout",
     "output_type": "stream",
     "text": [
      "4723.533871073298\n"
     ]
    },
    {
     "name": "stderr",
     "output_type": "stream",
     "text": [
      "C:\\ProgramData\\Anaconda3\\lib\\site-packages\\statsmodels\\genmod\\generalized_linear_model.py:302: DomainWarning: The inverse_power link function does not respect the domain of the Gamma family.\n",
      "  DomainWarning)\n"
     ]
    }
   ],
   "source": [
    "y = Raw_Data[(Raw_Data['NClaims'] != 0) & (Raw_Data['TotalClaims'] != 0)]['TotalClaims']/Raw_Data[(Raw_Data['NClaims'] != 0) & (Raw_Data['TotalClaims'] != 0)]['NClaims']\n",
    "X = Raw_Data[(Raw_Data['NClaims'] != 0) & (Raw_Data['TotalClaims'] != 0)][['Gender', 'Age','MStat']]\n",
    "\n",
    "lOnes = np.ones(X.shape[0])\n",
    "X = np.hstack((lOnes.reshape(lOnes.shape[0],1), X))\n",
    "\n",
    "est_IndividualClaims = sm.GLM(np.asarray(y), np.asarray(X),family=sm.families.Gamma(link = sm.genmod.families.links.inverse_power)).fit()\n",
    "est_IndividualClaims.summary()\n",
    "\n",
    "print(np.std(est_IndividualClaims.predict(X) - y))"
   ]
  },
  {
   "cell_type": "code",
   "execution_count": null,
   "metadata": {},
   "outputs": [],
   "source": []
  }
 ],
 "metadata": {
  "kernelspec": {
   "display_name": "Python 3",
   "language": "python",
   "name": "python3"
  },
  "language_info": {
   "codemirror_mode": {
    "name": "ipython",
    "version": 3
   },
   "file_extension": ".py",
   "mimetype": "text/x-python",
   "name": "python",
   "nbconvert_exporter": "python",
   "pygments_lexer": "ipython3",
   "version": "3.7.3"
  }
 },
 "nbformat": 4,
 "nbformat_minor": 2
}
