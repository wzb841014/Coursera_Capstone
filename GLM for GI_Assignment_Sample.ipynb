{
 "cells": [
  {
   "cell_type": "code",
   "execution_count": 1,
   "metadata": {},
   "outputs": [
    {
     "name": "stdout",
     "output_type": "stream",
     "text": [
      "              Name Gender  Age MStat  PostCode  Population  NClaims  \\\n",
      "0         RYAN LAU      M   27     M      2145       71312        1   \n",
      "1   ADAN FAIRCHILD      M   33     S      3037       46879        0   \n",
      "2  MOHAMED FORREST      M   86     S      6280       23485        0   \n",
      "3     LING ALMEIDA      F   17     S      4216       33735        0   \n",
      "4     HECTOR REISS      M   55     S      2280       26595        2   \n",
      "\n",
      "   TotalClaims  \n",
      "0  1020.406479  \n",
      "1     0.000000  \n",
      "2     0.000000  \n",
      "3     0.000000  \n",
      "4  6865.770128  \n"
     ]
    }
   ],
   "source": [
    "import pandas as pd\n",
    "import numpy as np\n",
    "import statsmodels.api as sm\n",
    "from matplotlib import pyplot as plt\n",
    "\n",
    "Raw_Data = pd.read_csv(r'https://raw.githubusercontent.com/wzb841014/Coursera_Capstone/master/Raw_Data.csv')\n",
    "\n",
    "print(Raw_Data.head())"
   ]
  },
  {
   "cell_type": "code",
   "execution_count": 2,
   "metadata": {},
   "outputs": [
    {
     "name": "stdout",
     "output_type": "stream",
     "text": [
      "              Name  Gender  Age  MStat  PostCode  Population  NClaims  \\\n",
      "0         RYAN LAU       1   27      1      2145       71312        1   \n",
      "1   ADAN FAIRCHILD       1   33      0      3037       46879        0   \n",
      "2  MOHAMED FORREST       1   86      0      6280       23485        0   \n",
      "3     LING ALMEIDA       0   17      0      4216       33735        0   \n",
      "4     HECTOR REISS       1   55      0      2280       26595        2   \n",
      "\n",
      "   TotalClaims  \n",
      "0  1020.406479  \n",
      "1     0.000000  \n",
      "2     0.000000  \n",
      "3     0.000000  \n",
      "4  6865.770128  \n"
     ]
    }
   ],
   "source": [
    "Raw_Data['Gender'].replace('M', 1, inplace = True)\n",
    "Raw_Data['Gender'].replace('F', 0, inplace = True)\n",
    "Raw_Data['MStat'].replace('M', 1, inplace = True)\n",
    "Raw_Data['MStat'].replace('S', 0, inplace = True)\n",
    "Raw_Data.dropna(axis=0, how='any', inplace=True)\n",
    "\n",
    "print(Raw_Data.head())"
   ]
  },
  {
   "cell_type": "code",
   "execution_count": 3,
   "metadata": {},
   "outputs": [
    {
     "data": {
      "text/html": [
       "<table class=\"simpletable\">\n",
       "<caption>Generalized Linear Model Regression Results</caption>\n",
       "<tr>\n",
       "  <th>Dep. Variable:</th>          <td>y</td>        <th>  No. Observations:  </th>  <td> 56843</td>  \n",
       "</tr>\n",
       "<tr>\n",
       "  <th>Model:</th>                 <td>GLM</td>       <th>  Df Residuals:      </th>  <td> 56839</td>  \n",
       "</tr>\n",
       "<tr>\n",
       "  <th>Model Family:</th>        <td>Poisson</td>     <th>  Df Model:          </th>  <td>     3</td>  \n",
       "</tr>\n",
       "<tr>\n",
       "  <th>Link Function:</th>         <td>log</td>       <th>  Scale:             </th> <td>  1.0000</td> \n",
       "</tr>\n",
       "<tr>\n",
       "  <th>Method:</th>               <td>IRLS</td>       <th>  Log-Likelihood:    </th> <td> -44539.</td> \n",
       "</tr>\n",
       "<tr>\n",
       "  <th>Date:</th>           <td>Thu, 12 Sep 2019</td> <th>  Deviance:          </th> <td>  53254.</td> \n",
       "</tr>\n",
       "<tr>\n",
       "  <th>Time:</th>               <td>15:27:57</td>     <th>  Pearson chi2:      </th> <td>6.22e+04</td> \n",
       "</tr>\n",
       "<tr>\n",
       "  <th>No. Iterations:</th>         <td>5</td>        <th>  Covariance Type:   </th> <td>nonrobust</td>\n",
       "</tr>\n",
       "</table>\n",
       "<table class=\"simpletable\">\n",
       "<tr>\n",
       "    <td></td>       <th>coef</th>     <th>std err</th>      <th>z</th>      <th>P>|z|</th>  <th>[0.025</th>    <th>0.975]</th>  \n",
       "</tr>\n",
       "<tr>\n",
       "  <th>const</th> <td>   -1.1299</td> <td>    0.024</td> <td>  -46.451</td> <td> 0.000</td> <td>   -1.178</td> <td>   -1.082</td>\n",
       "</tr>\n",
       "<tr>\n",
       "  <th>x1</th>    <td>    0.2705</td> <td>    0.014</td> <td>   19.349</td> <td> 0.000</td> <td>    0.243</td> <td>    0.298</td>\n",
       "</tr>\n",
       "<tr>\n",
       "  <th>x2</th>    <td>    0.0011</td> <td>    0.000</td> <td>    2.770</td> <td> 0.006</td> <td>    0.000</td> <td>    0.002</td>\n",
       "</tr>\n",
       "<tr>\n",
       "  <th>x3</th>    <td>   -0.2710</td> <td>    0.018</td> <td>  -14.915</td> <td> 0.000</td> <td>   -0.307</td> <td>   -0.235</td>\n",
       "</tr>\n",
       "</table>"
      ],
      "text/plain": [
       "<class 'statsmodels.iolib.summary.Summary'>\n",
       "\"\"\"\n",
       "                 Generalized Linear Model Regression Results                  \n",
       "==============================================================================\n",
       "Dep. Variable:                      y   No. Observations:                56843\n",
       "Model:                            GLM   Df Residuals:                    56839\n",
       "Model Family:                 Poisson   Df Model:                            3\n",
       "Link Function:                    log   Scale:                          1.0000\n",
       "Method:                          IRLS   Log-Likelihood:                -44539.\n",
       "Date:                Thu, 12 Sep 2019   Deviance:                       53254.\n",
       "Time:                        15:27:57   Pearson chi2:                 6.22e+04\n",
       "No. Iterations:                     5   Covariance Type:             nonrobust\n",
       "==============================================================================\n",
       "                 coef    std err          z      P>|z|      [0.025      0.975]\n",
       "------------------------------------------------------------------------------\n",
       "const         -1.1299      0.024    -46.451      0.000      -1.178      -1.082\n",
       "x1             0.2705      0.014     19.349      0.000       0.243       0.298\n",
       "x2             0.0011      0.000      2.770      0.006       0.000       0.002\n",
       "x3            -0.2710      0.018    -14.915      0.000      -0.307      -0.235\n",
       "==============================================================================\n",
       "\"\"\""
      ]
     },
     "execution_count": 3,
     "metadata": {},
     "output_type": "execute_result"
    }
   ],
   "source": [
    "y = Raw_Data['NClaims']\n",
    "X = Raw_Data[['Gender', 'Age','MStat']]\n",
    "lOnes = np.ones(X.shape[0])\n",
    "X = np.hstack((lOnes.reshape(lOnes.shape[0],1), X))\n",
    "\n",
    "est_NClaims = sm.GLM(np.asarray(y), sm.add_constant(np.asarray(X)),family=sm.families.Poisson()).fit()\n",
    "est_NClaims.summary()\n",
    "\n"
   ]
  },
  {
   "cell_type": "code",
   "execution_count": 4,
   "metadata": {},
   "outputs": [
    {
     "name": "stdout",
     "output_type": "stream",
     "text": [
      "0.6326311771426666\n"
     ]
    }
   ],
   "source": [
    "print(np.std(est_NClaims.predict(X) - y))"
   ]
  },
  {
   "cell_type": "code",
   "execution_count": 5,
   "metadata": {},
   "outputs": [
    {
     "name": "stderr",
     "output_type": "stream",
     "text": [
      "C:\\ProgramData\\Anaconda3\\lib\\site-packages\\statsmodels\\genmod\\generalized_linear_model.py:302: DomainWarning: The inverse_power link function does not respect the domain of the Gamma family.\n",
      "  DomainWarning)\n"
     ]
    },
    {
     "data": {
      "text/html": [
       "<table class=\"simpletable\">\n",
       "<caption>Generalized Linear Model Regression Results</caption>\n",
       "<tr>\n",
       "  <th>Dep. Variable:</th>          <td>y</td>        <th>  No. Observations:  </th>   <td> 16742</td>   \n",
       "</tr>\n",
       "<tr>\n",
       "  <th>Model:</th>                 <td>GLM</td>       <th>  Df Residuals:      </th>   <td> 16738</td>   \n",
       "</tr>\n",
       "<tr>\n",
       "  <th>Model Family:</th>         <td>Gamma</td>      <th>  Df Model:          </th>   <td>     3</td>   \n",
       "</tr>\n",
       "<tr>\n",
       "  <th>Link Function:</th>    <td>inverse_power</td>  <th>  Scale:             </th>  <td> 0.90028</td>  \n",
       "</tr>\n",
       "<tr>\n",
       "  <th>Method:</th>               <td>IRLS</td>       <th>  Log-Likelihood:    </th> <td>-1.5913e+05</td>\n",
       "</tr>\n",
       "<tr>\n",
       "  <th>Date:</th>           <td>Thu, 12 Sep 2019</td> <th>  Deviance:          </th>  <td>  15770.</td>  \n",
       "</tr>\n",
       "<tr>\n",
       "  <th>Time:</th>               <td>15:27:57</td>     <th>  Pearson chi2:      </th>  <td>1.51e+04</td>  \n",
       "</tr>\n",
       "<tr>\n",
       "  <th>No. Iterations:</th>         <td>8</td>        <th>  Covariance Type:   </th>  <td>nonrobust</td> \n",
       "</tr>\n",
       "</table>\n",
       "<table class=\"simpletable\">\n",
       "<tr>\n",
       "    <td></td>       <th>coef</th>     <th>std err</th>      <th>z</th>      <th>P>|z|</th>  <th>[0.025</th>    <th>0.975]</th>  \n",
       "</tr>\n",
       "<tr>\n",
       "  <th>const</th> <td>    0.0002</td> <td> 5.09e-06</td> <td>   38.251</td> <td> 0.000</td> <td>    0.000</td> <td>    0.000</td>\n",
       "</tr>\n",
       "<tr>\n",
       "  <th>x1</th>    <td>-1.174e-06</td> <td> 2.97e-06</td> <td>   -0.395</td> <td> 0.693</td> <td>-6.99e-06</td> <td> 4.64e-06</td>\n",
       "</tr>\n",
       "<tr>\n",
       "  <th>x2</th>    <td> 1.272e-07</td> <td> 8.69e-08</td> <td>    1.463</td> <td> 0.144</td> <td>-4.32e-08</td> <td> 2.98e-07</td>\n",
       "</tr>\n",
       "<tr>\n",
       "  <th>x3</th>    <td> 2.841e-06</td> <td> 3.84e-06</td> <td>    0.740</td> <td> 0.459</td> <td>-4.68e-06</td> <td> 1.04e-05</td>\n",
       "</tr>\n",
       "</table>"
      ],
      "text/plain": [
       "<class 'statsmodels.iolib.summary.Summary'>\n",
       "\"\"\"\n",
       "                 Generalized Linear Model Regression Results                  \n",
       "==============================================================================\n",
       "Dep. Variable:                      y   No. Observations:                16742\n",
       "Model:                            GLM   Df Residuals:                    16738\n",
       "Model Family:                   Gamma   Df Model:                            3\n",
       "Link Function:          inverse_power   Scale:                         0.90028\n",
       "Method:                          IRLS   Log-Likelihood:            -1.5913e+05\n",
       "Date:                Thu, 12 Sep 2019   Deviance:                       15770.\n",
       "Time:                        15:27:57   Pearson chi2:                 1.51e+04\n",
       "No. Iterations:                     8   Covariance Type:             nonrobust\n",
       "==============================================================================\n",
       "                 coef    std err          z      P>|z|      [0.025      0.975]\n",
       "------------------------------------------------------------------------------\n",
       "const          0.0002   5.09e-06     38.251      0.000       0.000       0.000\n",
       "x1         -1.174e-06   2.97e-06     -0.395      0.693   -6.99e-06    4.64e-06\n",
       "x2          1.272e-07   8.69e-08      1.463      0.144   -4.32e-08    2.98e-07\n",
       "x3          2.841e-06   3.84e-06      0.740      0.459   -4.68e-06    1.04e-05\n",
       "==============================================================================\n",
       "\"\"\""
      ]
     },
     "execution_count": 5,
     "metadata": {},
     "output_type": "execute_result"
    }
   ],
   "source": [
    "y = Raw_Data[(Raw_Data['NClaims'] != 0) & (Raw_Data['TotalClaims'] != 0)]['TotalClaims']/Raw_Data[(Raw_Data['NClaims'] != 0) & (Raw_Data['TotalClaims'] != 0)]['NClaims']\n",
    "X = Raw_Data[(Raw_Data['NClaims'] != 0) & (Raw_Data['TotalClaims'] != 0)][['Gender', 'Age','MStat']]\n",
    "\n",
    "lOnes = np.ones(X.shape[0])\n",
    "X = np.hstack((lOnes.reshape(lOnes.shape[0],1), X))\n",
    "\n",
    "est_IndividualClaims = sm.GLM(np.asarray(y), np.asarray(X),family=sm.families.Gamma()).fit()\n",
    "est_IndividualClaims.summary()\n",
    "\n"
   ]
  },
  {
   "cell_type": "code",
   "execution_count": 6,
   "metadata": {},
   "outputs": [
    {
     "name": "stdout",
     "output_type": "stream",
     "text": [
      "4723.533871073298\n"
     ]
    }
   ],
   "source": [
    "print(np.std(est_IndividualClaims.predict(X) - y))"
   ]
  },
  {
   "cell_type": "code",
   "execution_count": null,
   "metadata": {},
   "outputs": [],
   "source": []
  }
 ],
 "metadata": {
  "kernelspec": {
   "display_name": "Python 3",
   "language": "python",
   "name": "python3"
  },
  "language_info": {
   "codemirror_mode": {
    "name": "ipython",
    "version": 3
   },
   "file_extension": ".py",
   "mimetype": "text/x-python",
   "name": "python",
   "nbconvert_exporter": "python",
   "pygments_lexer": "ipython3",
   "version": "3.7.3"
  }
 },
 "nbformat": 4,
 "nbformat_minor": 2
}
